{
 "cells": [
  {
   "cell_type": "markdown",
   "id": "1dfe1ee3",
   "metadata": {},
   "source": [
    "### How to open jupyter notebook"
   ]
  },
  {
   "cell_type": "markdown",
   "id": "5e2c252f",
   "metadata": {},
   "source": [
    "### 1) open cmd\n",
    "2) type jupyter notebook and press enter"
   ]
  },
  {
   "cell_type": "code",
   "execution_count": null,
   "id": "71212c7e",
   "metadata": {},
   "outputs": [],
   "source": []
  },
  {
   "cell_type": "code",
   "execution_count": 1,
   "id": "54a922d9",
   "metadata": {},
   "outputs": [
    {
     "name": "stdout",
     "output_type": "stream",
     "text": [
      "Hello world\n"
     ]
    }
   ],
   "source": [
    "print(\"Hello world\")"
   ]
  },
  {
   "cell_type": "markdown",
   "id": "28af9d98",
   "metadata": {},
   "source": [
    "### adding sell on jupyter notebook"
   ]
  },
  {
   "cell_type": "markdown",
   "id": "64f6c3b1",
   "metadata": {},
   "source": [
    "### shift+enter"
   ]
  },
  {
   "cell_type": "code",
   "execution_count": null,
   "id": "42e4f8c3",
   "metadata": {},
   "outputs": [],
   "source": [
    "There are differennt types of datatypes in python\n",
    "1) Pre define datatype\n",
    "2) user define data type"
   ]
  },
  {
   "cell_type": "markdown",
   "id": "78e7bde0",
   "metadata": {},
   "source": [
    "### 1) Pre define datatype"
   ]
  },
  {
   "cell_type": "code",
   "execution_count": null,
   "id": "41621ace",
   "metadata": {},
   "outputs": [],
   "source": [
    "Data types:\n",
    "    \n",
    "    1) int 1,2,3,100,200,-2\n",
    "    2) float 6.2,100.2,11.2\n",
    "    3) str \"Bhakti barve\",\"efhfn\",\"\"\"bhakti\"\"\",'xyz'\n",
    "    4)list [21,\"Bhakti\",5.5]\n",
    "    5)tuple ('apple','kiwi','mango')\n",
    "    6) dict {'bhakti':21,'mango':20,'apple':20} \n",
    "        1)Dict Are ALOS NOT ORDER\n",
    "        2) key does not contain dublicate values/key alwys unique\n",
    "    7) set {10,20,30,40,10} - it does not contain dublicates\n",
    "    8) bool  True / False\n",
    "    9) None\n",
    "    "
   ]
  },
  {
   "cell_type": "code",
   "execution_count": 2,
   "id": "04156402",
   "metadata": {},
   "outputs": [
    {
     "name": "stdout",
     "output_type": "stream",
     "text": [
      "100\n"
     ]
    }
   ],
   "source": [
    "Bhakti = 100\n",
    "print(a)"
   ]
  },
  {
   "cell_type": "code",
   "execution_count": null,
   "id": "abf8e07c",
   "metadata": {},
   "outputs": [],
   "source": [
    "a_1 = 100\n",
    "vishal_10 = 200"
   ]
  },
  {
   "cell_type": "code",
   "execution_count": null,
   "id": "3dd27301",
   "metadata": {},
   "outputs": [],
   "source": [
    "vishal = 100   "
   ]
  },
  {
   "cell_type": "markdown",
   "id": "7d0fea27",
   "metadata": {},
   "source": [
    "### variable"
   ]
  },
  {
   "cell_type": "code",
   "execution_count": null,
   "id": "da7344cc",
   "metadata": {},
   "outputs": [],
   "source": [
    "rule of naming\n",
    "1) Name should start only with alphabets\n",
    "2) special chars use in betna name\n",
    "3) never user a name wich is a python keyword\n"
   ]
  },
  {
   "cell_type": "markdown",
   "id": "2ef45fb4",
   "metadata": {},
   "source": [
    "### int"
   ]
  },
  {
   "cell_type": "code",
   "execution_count": 14,
   "id": "bd9a15ff",
   "metadata": {},
   "outputs": [
    {
     "name": "stdout",
     "output_type": "stream",
     "text": [
      "(1, 2, 3, 4, 5, 6, 7)\n",
      "<class 'tuple'>\n"
     ]
    }
   ],
   "source": [
    "a= [1,2,3,4,5,6,7]\n",
    "print(a)\n"
   ]
  },
  {
   "cell_type": "code",
   "execution_count": 4,
   "id": "1295ff9f",
   "metadata": {},
   "outputs": [
    {
     "name": "stdout",
     "output_type": "stream",
     "text": [
      "[100, 200, 400]\n"
     ]
    }
   ],
   "source": [
    "bhakti = [100,200,400]\n",
    "print(bhakti)"
   ]
  },
  {
   "cell_type": "markdown",
   "id": "d7994ded",
   "metadata": {},
   "source": [
    "### float"
   ]
  },
  {
   "cell_type": "code",
   "execution_count": 5,
   "id": "b2412cc4",
   "metadata": {},
   "outputs": [
    {
     "name": "stdout",
     "output_type": "stream",
     "text": [
      "[1.2, 11.4, 10.44]\n"
     ]
    }
   ],
   "source": [
    "x = [1.20,11.40,10.44]\n",
    "print(x)"
   ]
  },
  {
   "cell_type": "code",
   "execution_count": 18,
   "id": "f9b30d2f",
   "metadata": {},
   "outputs": [
    {
     "name": "stdout",
     "output_type": "stream",
     "text": [
      "<class 'float'>\n"
     ]
    }
   ],
   "source": [
    "y = 4.5\n",
    "print(type(y))"
   ]
  },
  {
   "cell_type": "markdown",
   "id": "755efa14",
   "metadata": {},
   "source": [
    "### str"
   ]
  },
  {
   "cell_type": "code",
   "execution_count": 6,
   "id": "3d80d634",
   "metadata": {},
   "outputs": [
    {
     "name": "stdout",
     "output_type": "stream",
     "text": [
      "bhakti barve\n"
     ]
    }
   ],
   "source": [
    "bhakti = \"bhakti barve\"\n",
    "print(bhakti)"
   ]
  },
  {
   "cell_type": "markdown",
   "id": "45010fff",
   "metadata": {},
   "source": [
    "### list"
   ]
  },
  {
   "cell_type": "code",
   "execution_count": 27,
   "id": "022c72d5",
   "metadata": {},
   "outputs": [
    {
     "name": "stdout",
     "output_type": "stream",
     "text": [
      "400\n"
     ]
    }
   ],
   "source": [
    "xyz = [12,'bhakti',21.2,None]\n",
    "print(x)"
   ]
  },
  {
   "cell_type": "code",
   "execution_count": 28,
   "id": "fe1fb7c3",
   "metadata": {},
   "outputs": [],
   "source": [
    "xyz[2]='vishal'"
   ]
  },
  {
   "cell_type": "code",
   "execution_count": 29,
   "id": "8d7b7383",
   "metadata": {},
   "outputs": [
    {
     "name": "stdout",
     "output_type": "stream",
     "text": [
      "[12, 'bhakti', 'vishal', None]\n"
     ]
    }
   ],
   "source": [
    "print(xyz)"
   ]
  },
  {
   "cell_type": "markdown",
   "id": "3ced1585",
   "metadata": {},
   "source": [
    "### Tuple"
   ]
  },
  {
   "cell_type": "code",
   "execution_count": 37,
   "id": "836aae17",
   "metadata": {},
   "outputs": [
    {
     "name": "stdout",
     "output_type": "stream",
     "text": [
      "(1, 2, 3, 4, 5, 7)\n"
     ]
    }
   ],
   "source": [
    "aaa = (1,2,3,4,5,7)\n",
    "print(aaa)"
   ]
  },
  {
   "cell_type": "code",
   "execution_count": null,
   "id": "afba889e",
   "metadata": {},
   "outputs": [],
   "source": []
  },
  {
   "cell_type": "markdown",
   "id": "e717a3bc",
   "metadata": {},
   "source": [
    "### dict"
   ]
  },
  {
   "cell_type": "code",
   "execution_count": 19,
   "id": "839c309a",
   "metadata": {},
   "outputs": [
    {
     "name": "stdout",
     "output_type": "stream",
     "text": [
      "{'vishal': 21, 'mango': 21, 'banana': 20}\n",
      "<class 'dict'>\n"
     ]
    }
   ],
   "source": [
    "vishal = {'vishal':21,'mango':21,'banana':20} #key alwas unique\n",
    "print(vishal)\n",
    "print(type(vishal))"
   ]
  },
  {
   "cell_type": "markdown",
   "id": "236794cf",
   "metadata": {},
   "source": [
    "### set"
   ]
  },
  {
   "cell_type": "code",
   "execution_count": 21,
   "id": "f0e0eee4",
   "metadata": {},
   "outputs": [
    {
     "name": "stdout",
     "output_type": "stream",
     "text": [
      "(1, 2, 3, 4, 5, 6, 7, 7, 7)\n",
      "<class 'tuple'>\n"
     ]
    }
   ],
   "source": [
    "a = (1,2,3,4,5,6,7,7,7)\n",
    "print(a)\n",
    "print(type(a))"
   ]
  },
  {
   "cell_type": "code",
   "execution_count": 17,
   "id": "8d9d8204",
   "metadata": {},
   "outputs": [
    {
     "name": "stdout",
     "output_type": "stream",
     "text": [
      "<class 'int'>\n"
     ]
    }
   ],
   "source": [
    "x = 400\n",
    "print(type(x))"
   ]
  },
  {
   "cell_type": "markdown",
   "id": "0ea081a9",
   "metadata": {},
   "source": [
    "### Type() : we use to identify which datatype is dec.."
   ]
  },
  {
   "cell_type": "code",
   "execution_count": null,
   "id": "7e6e485e",
   "metadata": {},
   "outputs": [],
   "source": []
  },
  {
   "cell_type": "markdown",
   "id": "bfb771f0",
   "metadata": {},
   "source": [
    "### Immutable : Not edit , not update , not added"
   ]
  },
  {
   "cell_type": "code",
   "execution_count": null,
   "id": "a9a36905",
   "metadata": {},
   "outputs": [],
   "source": [
    "1)tuple\n",
    "2)int\n",
    "3)float\n",
    "4)str\n",
    "5)None\n",
    "6)bool\n",
    "\n"
   ]
  },
  {
   "cell_type": "markdown",
   "id": "b6f57b09",
   "metadata": {},
   "source": [
    "### mutable : Edit,update,add,delete"
   ]
  },
  {
   "cell_type": "code",
   "execution_count": null,
   "id": "5d928130",
   "metadata": {},
   "outputs": [],
   "source": [
    "1)list\n",
    "2)dict\n",
    "3)set"
   ]
  },
  {
   "cell_type": "code",
   "execution_count": 22,
   "id": "f9bbc3cd",
   "metadata": {},
   "outputs": [
    {
     "name": "stdout",
     "output_type": "stream",
     "text": [
      "300\n"
     ]
    }
   ],
   "source": [
    "a=100\n",
    "b=200\n",
    "c=a+b\n",
    "print(c)"
   ]
  },
  {
   "cell_type": "code",
   "execution_count": 48,
   "id": "bd5faa82",
   "metadata": {},
   "outputs": [
    {
     "name": "stdout",
     "output_type": "stream",
     "text": [
      "-300\n"
     ]
    }
   ],
   "source": [
    "a=100\n",
    "b=400\n",
    "c=a-b\n",
    "print(c)"
   ]
  },
  {
   "cell_type": "code",
   "execution_count": 49,
   "id": "a85fca7d",
   "metadata": {},
   "outputs": [
    {
     "name": "stdout",
     "output_type": "stream",
     "text": [
      "20000\n"
     ]
    }
   ],
   "source": [
    "a=100\n",
    "b=200\n",
    "c=a*b\n",
    "print(c)"
   ]
  },
  {
   "cell_type": "code",
   "execution_count": 51,
   "id": "d4d57322",
   "metadata": {},
   "outputs": [
    {
     "name": "stdout",
     "output_type": "stream",
     "text": [
      "50.0\n"
     ]
    }
   ],
   "source": [
    "a=100\n",
    "b=2\n",
    "c=a/b\n",
    "print(c)"
   ]
  },
  {
   "cell_type": "code",
   "execution_count": 52,
   "id": "c8b552df",
   "metadata": {},
   "outputs": [
    {
     "name": "stdout",
     "output_type": "stream",
     "text": [
      "50\n"
     ]
    }
   ],
   "source": [
    "a=100\n",
    "b=2\n",
    "c=a//b\n",
    "print(c)"
   ]
  },
  {
   "cell_type": "code",
   "execution_count": 38,
   "id": "9b64fcad",
   "metadata": {},
   "outputs": [
    {
     "name": "stdout",
     "output_type": "stream",
     "text": [
      "<class 'str'>\n"
     ]
    }
   ],
   "source": [
    "a = 'a'\n",
    "print(type(a))"
   ]
  },
  {
   "cell_type": "code",
   "execution_count": 39,
   "id": "64f52c65",
   "metadata": {},
   "outputs": [
    {
     "name": "stdout",
     "output_type": "stream",
     "text": [
      "<class 'tuple'>\n"
     ]
    }
   ],
   "source": [
    "rrr= (1,2,4,5,6,78,)\n",
    "print(type(rrr))"
   ]
  },
  {
   "cell_type": "code",
   "execution_count": 41,
   "id": "df490992",
   "metadata": {},
   "outputs": [
    {
     "name": "stdout",
     "output_type": "stream",
     "text": [
      "<class 'list'>\n"
     ]
    }
   ],
   "source": [
    "sss= ['vishal','xyz','zzz',10,10.100]\n",
    "print(type(sss))"
   ]
  },
  {
   "cell_type": "code",
   "execution_count": 42,
   "id": "7c587d7c",
   "metadata": {},
   "outputs": [
    {
     "name": "stdout",
     "output_type": "stream",
     "text": [
      "<class 'set'>\n"
     ]
    }
   ],
   "source": [
    "bhakti= {1,2,3,4,5,6,8,88}\n",
    "print(type(bhakti))"
   ]
  },
  {
   "cell_type": "code",
   "execution_count": 45,
   "id": "a16cffe1",
   "metadata": {},
   "outputs": [],
   "source": [
    "a=10.10"
   ]
  },
  {
   "cell_type": "code",
   "execution_count": 46,
   "id": "56ba82b6",
   "metadata": {},
   "outputs": [
    {
     "name": "stdout",
     "output_type": "stream",
     "text": [
      "<class 'float'>\n"
     ]
    }
   ],
   "source": [
    "print(type(a))"
   ]
  },
  {
   "cell_type": "code",
   "execution_count": null,
   "id": "a6f9f9bb",
   "metadata": {},
   "outputs": [],
   "source": []
  }
 ],
 "metadata": {
  "kernelspec": {
   "display_name": "Python 3 (ipykernel)",
   "language": "python",
   "name": "python3"
  },
  "language_info": {
   "codemirror_mode": {
    "name": "ipython",
    "version": 3
   },
   "file_extension": ".py",
   "mimetype": "text/x-python",
   "name": "python",
   "nbconvert_exporter": "python",
   "pygments_lexer": "ipython3",
   "version": "3.10.7"
  }
 },
 "nbformat": 4,
 "nbformat_minor": 5
}
